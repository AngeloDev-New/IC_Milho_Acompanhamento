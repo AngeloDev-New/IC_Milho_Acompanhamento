{
 "cells": [
  {
   "cell_type": "markdown",
   "metadata": {},
   "source": [
    "# Primeiros Passos na Segmentação de Imagens Ortomosaicas\n",
    "\n",
    "## 1. Segmentação das Imagens\n",
    "O primeiro passo consiste em dividir as imagens ortomosaicas em várias imagens menores de 600x600 pixels, separando todas as camadas (R, G, B) individualmente. Essa etapa é essencial para alimentar o modelo corretamente e otimizar o processamento das imagens.\n",
    "\n",
    "## 2. Importação de Modelos Pré-treinados e Dataset\n",
    "Após a segmentação, é necessário importar os modelos pré-treinados e o dataset para realizar inferências (predições). Utilizaremos o modelo **DeepLabV3Plus** com **ResNet-50** treinado para classificação de três classes: **fundo, milho e daninha**.\n",
    "\n",
    "Repositório do modelo: [DeepLabV3Plus-PyTorch](https://github.com/VainF/DeepLabV3Plus-Pytorch)\n",
    "\n",
    "### 2.1 Análise e Recorte do Dataset\n",
    "Aqui entra uma parte mais complexa: precisamos analisar o dataset segmentado anteriormente e garantir que nossas imagens estejam devidamente rotuladas. Ferramentas úteis para essa etapa incluem:\n",
    "- **LabelMe**\n",
    "- **CUAT**\n",
    "- **VGG Image Annotator (VIA)**\n",
    "\n",
    "Essas ferramentas ajudam a criar e validar anotações para treinamento do modelo.\n",
    "\n",
    "## 3. Fine-tuning ou Transfer Learning\n",
    "Com as imagens devidamente segmentadas e anotadas, podemos prosseguir para a etapa de **fine-tuning** ou **transfer learning**. Esse processo ajusta o modelo pré-treinado para obter melhor desempenho na segmentação de milho e plantas daninhas, refinando os pesos da rede neural com nosso próprio dataset.\n",
    "\n",
    "Essa abordagem permite que o modelo se adapte às características específicas das nossas imagens, melhorando sua precisão na segmentação.\n",
    "\n"
   ]
  },
  {
   "cell_type": "markdown",
   "metadata": {},
   "source": [
    "### Para atingir esse objetivo, usei Python juntamente com a biblioteca Pillow, que captura uma a uma das imagens .tif e as recorta em blocos de 600x600. Em seguida, ignora as imagens com mais de 10% de alpha e as separa nas camadas RGB, gerando os arquivos nome_imagemR.png, nome_imagemG.png, nome_imagemB.png. As imagens .tif estão localizadas no diretório /imgs/tifs, e as imagens .png são salvas em /imgs/pngs."
   ]
  },
  {
   "cell_type": "code",
   "execution_count": 1,
   "metadata": {},
   "outputs": [],
   "source": [
    "#Atualizar dependencias\n",
    "!pip freeze > requirements.txt"
   ]
  },
  {
   "cell_type": "code",
   "execution_count": null,
   "metadata": {},
   "outputs": [],
   "source": [
    "#Instalar dependencias \n",
    "!pip install -r requirements.txt"
   ]
  },
  {
   "cell_type": "code",
   "execution_count": null,
   "metadata": {},
   "outputs": [],
   "source": [
    "\n",
    "import os\n",
    "from PIL import Image\n",
    "import numpy as np\n",
    "\n",
    "# Diretórios\n",
    "input_dir = '/imgs/tifs'  # Diretório com as imagens .tif\n",
    "output_dir = '/imgs/pngs'  # Diretório para salvar as imagens .png\n",
    "\n",
    "# Função para verificar o alpha da imagem\n",
    "def has_high_alpha(img, threshold=0.1):\n",
    "    # Obtém o canal alpha, se existir\n",
    "    alpha = np.array(img.split()[3]) if img.mode == 'RGBA' else None\n",
    "    if alpha is not None:\n",
    "        # Calcula a porcentagem de pixels com alpha > 10%\n",
    "        alpha_percentage = np.sum(alpha > 25) / alpha.size  # Ajuste o valor 25 conforme necessário\n",
    "        return alpha_percentage > threshold\n",
    "    return False\n",
    "\n",
    "# Função para salvar as imagens RGB separadas\n",
    "def save_rgb_layers(img, base_name):\n",
    "    # Divide a imagem em suas camadas RGB\n",
    "    r, g, b = img.split()\n",
    "    \n",
    "    # Salva cada camada como uma imagem separada\n",
    "    r.save(os.path.join(output_dir, f\"{base_name}R.png\"))\n",
    "    g.save(os.path.join(output_dir, f\"{base_name}G.png\"))\n",
    "    b.save(os.path.join(output_dir, f\"{base_name}B.png\"))\n",
    "\n",
    "# Função para processar as imagens\n",
    "def process_images():\n",
    "    # Cria o diretório de saída se não existir\n",
    "    os.makedirs(output_dir, exist_ok=True)\n",
    "\n",
    "    # Itera sobre todas as imagens no diretório de entrada\n",
    "    for filename in os.listdir(input_dir):\n",
    "        if filename.endswith('.tif'):\n",
    "            file_path = os.path.join(input_dir, filename)\n",
    "            img = Image.open(file_path)\n",
    "            \n",
    "            # Ignora imagens com mais de 10% de alpha\n",
    "            if has_high_alpha(img):\n",
    "                print(f\"Ignorando {filename} devido ao alto alpha.\")\n",
    "                continue\n",
    "\n",
    "            # Processa a imagem em blocos de 600x600\n",
    "            img_width, img_height = img.size\n",
    "            for i in range(0, img_width, 600):\n",
    "                for j in range(0, img_height, 600):\n",
    "                    # Define as coordenadas do bloco\n",
    "                    box = (i, j, min(i + 600, img_width), min(j + 600, img_height))\n",
    "                    cropped_img = img.crop(box)\n",
    "                    \n",
    "                    # Cria um nome base para o arquivo\n",
    "                    base_name = f\"{filename.split('.')[0]}_{i}_{j}_\"\n",
    "                    \n",
    "                    # Salva as camadas RGB separadas\n",
    "                    save_rgb_layers(cropped_img, base_name)\n",
    "\n",
    "# Executa o processamento\n",
    "if __name__ == \"__main__\":\n",
    "    process_images()\n"
   ]
  }
 ],
 "metadata": {
  "kernelspec": {
   "display_name": "venv",
   "language": "python",
   "name": "python3"
  },
  "language_info": {
   "codemirror_mode": {
    "name": "ipython",
    "version": 3
   },
   "file_extension": ".py",
   "mimetype": "text/x-python",
   "name": "python",
   "nbconvert_exporter": "python",
   "pygments_lexer": "ipython3",
   "version": "3.8.10"
  }
 },
 "nbformat": 4,
 "nbformat_minor": 2
}
